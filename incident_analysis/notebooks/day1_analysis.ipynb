{
  "nbformat": 4,
  "nbformat_minor": 0,
  "metadata": {
    "colab": {
      "provenance": []
    },
    "kernelspec": {
      "name": "python3",
      "display_name": "Python 3"
    },
    "language_info": {
      "name": "python"
    }
  },
  "cells": [
    {
      "cell_type": "code",
      "execution_count": 1,
      "metadata": {
        "id": "EG2dCq8mnRFA"
      },
      "outputs": [],
      "source": [
        "import pandas as pd\n",
        "df = pd.read_csv(\"school-safety-report.csv\")"
      ]
    },
    {
      "cell_type": "code",
      "source": [
        "df.columns = (\n",
        "    df.columns.str.strip()\n",
        "             .str.lower()\n",
        "             .str.replace(\" \", \"_\")\n",
        "             .str.replace(r\"[^a-z0-9_]\", \"\", regex=True)\n",
        ")"
      ],
      "metadata": {
        "id": "r3_JO2oUntuB"
      },
      "execution_count": 2,
      "outputs": []
    },
    {
      "cell_type": "code",
      "source": [
        "total_rows = len(df)\n",
        "unique_schools = df[\"dbn\"].nunique() if \"dbn\" in df.columns else df[\"location_name\"].nunique()\n",
        "\n",
        "incident_columns = [\"major_n\", \"oth_n\", \"nocrim_n\", \"prop_n\", \"vio_n\"]\n",
        "incident_totals = df[incident_columns].sum()\n",
        "most_frequent_incident = incident_totals.idxmax()"
      ],
      "metadata": {
        "id": "gpnmetrTnxei"
      },
      "execution_count": 5,
      "outputs": []
    },
    {
      "cell_type": "code",
      "source": [
        "df[\"borough_name_clean\"] = df[\"borough_name\"].str.strip().str.lower()\n",
        "bronx_incidents = df[df[\"borough_name_clean\"] == \"bronx\"][incident_columns].sum().sum()\n",
        "total_incidents = df[incident_columns].sum().sum()\n",
        "bronx_pct = (bronx_incidents / total_incidents) * 100"
      ],
      "metadata": {
        "id": "3niKuzK_oHWz"
      },
      "execution_count": 10,
      "outputs": []
    },
    {
      "cell_type": "code",
      "source": [
        "print(\"Total rows:\", total_rows)\n",
        "print(\"Unique schools:\", unique_schools)\n",
        "print(\"Most frequent incident type:\", most_frequent_incident)\n",
        "print(\"Bronx incident %:\", round(bronx_pct, 1))\n"
      ],
      "metadata": {
        "colab": {
          "base_uri": "https://localhost:8080/"
        },
        "id": "lTGaQwAPoN04",
        "outputId": "3bc06dbd-91d1-4dcf-bccd-e4190238fd74"
      },
      "execution_count": 12,
      "outputs": [
        {
          "output_type": "stream",
          "name": "stdout",
          "text": [
            "Total rows: 6310\n",
            "Unique schools: 1931\n",
            "Most frequent incident type: nocrim_n\n",
            "Bronx incident %: 28.2\n"
          ]
        }
      ]
    },
    {
      "cell_type": "code",
      "source": [
        "from google.colab import drive\n",
        "drive.mount('/content/drive')"
      ],
      "metadata": {
        "colab": {
          "base_uri": "https://localhost:8080/"
        },
        "id": "qDHY32l_qR6j",
        "outputId": "44d6e0fa-99b2-4846-8340-09adaa5bd09d"
      },
      "execution_count": 13,
      "outputs": [
        {
          "output_type": "stream",
          "name": "stdout",
          "text": [
            "Mounted at /content/drive\n"
          ]
        }
      ]
    },
    {
      "cell_type": "code",
      "source": [
        "output_path = \"/content/drive/My Drive/Practice month/Day 1/school-safety-report.cleaned.csv\"\n",
        "df.to_csv(output_path, index=False)\n",
        "\n",
        "print(\"Cleaned CSV saved to:\", output_path)"
      ],
      "metadata": {
        "colab": {
          "base_uri": "https://localhost:8080/"
        },
        "id": "sharU0URqXNg",
        "outputId": "697f73ad-a093-4e8d-8ae6-9837cf324c86"
      },
      "execution_count": 15,
      "outputs": [
        {
          "output_type": "stream",
          "name": "stdout",
          "text": [
            "Cleaned CSV saved to: /content/drive/My Drive/Practice month/Day 1/school-safety-report.cleaned.csv\n"
          ]
        }
      ]
    },
    {
      "cell_type": "code",
      "source": [
        "google_sheet_url_raw = \"https://drive.google.com/file/d/1uCchk73pdFzs1pRQ20Lmb_dpHHwP5Ttj/view?usp=sharing\"\n",
        "google_sheet_url_cleaned=\"https://drive.google.com/file/d/1W5zk4AfObHxzzlUIb1ZApcBPqgaS2mKC/view?usp=sharing\"\n",
        "md_content = f\"\"\"\n",
        "# Day 1 — School Incident Analysis\n",
        "\n",
        "## Google Sheet\n",
        "[school-safety-report.csv]({google_sheet_url_raw})\n",
        "[school-safety-report.cleaned.csv]({google_sheet_url_cleaned})\n",
        "\n",
        "## Answers\n",
        "- **Total rows:** {total_rows}\n",
        "- **Unique schools:** {unique_schools}\n",
        "- **Most frequent incident type:** {most_frequent_incident}\n",
        "- **Bronx incident %:** {bronx_pct:.1f}%\n",
        "\n",
        "## Observations\n",
        "- Bronx schools account for about {bronx_pct:.1f}% of all incidents, which is a significant share of the total.\n",
        "- The majority of reported incidents are {most_frequent_incident} suggesting schools mainly deal with lower-level issues rather than violent or property-related cases.\n",
        "- Some schools show **unusually high numbers of incidents** compared to others of similar size — this could be due to either differences in reporting practices or genuine behavioral issues.\n",
        "\n",
        "## Notes\n",
        "- Branch: `Gokova-Marianna-day1`\n",
        "- Data source: `datasets/school-safety-report.csv`\n",
        "\n",
        "\n",
        "\n",
        "\n",
        "\"\"\"\n",
        "\n",
        "\n",
        "\n",
        "print(md_content)"
      ],
      "metadata": {
        "colab": {
          "base_uri": "https://localhost:8080/"
        },
        "id": "cthxRnaJrfOj",
        "outputId": "05661d6d-020b-41bf-cca9-5bc525259805"
      },
      "execution_count": 21,
      "outputs": [
        {
          "output_type": "stream",
          "name": "stdout",
          "text": [
            "\n",
            "# Day 1 — School Incident Analysis\n",
            "\n",
            "## Google Sheet\n",
            "[school-safety-report.csv](https://drive.google.com/file/d/1uCchk73pdFzs1pRQ20Lmb_dpHHwP5Ttj/view?usp=sharing)\n",
            "[school-safety-report.cleaned.csv](https://drive.google.com/file/d/1W5zk4AfObHxzzlUIb1ZApcBPqgaS2mKC/view?usp=sharing)\n",
            "\n",
            "## Answers\n",
            "- **Total rows:** 6310\n",
            "- **Unique schools:** 1931\n",
            "- **Most frequent incident type:** nocrim_n\n",
            "- **Bronx incident %:** 28.2%\n",
            "\n",
            "## Observations\n",
            "- Bronx schools account for about 28.2% of all incidents, which is a significant share of the total.\n",
            "- The majority of reported incidents are nocrim_n suggesting schools mainly deal with lower-level issues rather than violent or property-related cases.\n",
            "- Some schools show **unusually high numbers of incidents** compared to others of similar size — this could be due to either differences in reporting practices or genuine behavioral issues.  \n",
            "\n",
            "## Notes\n",
            "- Branch: `Gokova-Marianna-day1`  \n",
            "- Data source: `datasets/school-safety-report.csv`\n",
            "\n",
            "\n",
            "\n",
            "\n",
            "\n"
          ]
        }
      ]
    },
    {
      "cell_type": "code",
      "source": [
        "with open(\"day-1-submission.md\", \"w\") as f:\n",
        "    f.write(md_content)\n",
        "\n",
        "print(\"✅ Markdown file created: day-1-submission.md\")"
      ],
      "metadata": {
        "colab": {
          "base_uri": "https://localhost:8080/"
        },
        "id": "9lkZJAV7tVng",
        "outputId": "6bbb5b67-c5e0-43f8-a239-780caf80ade1"
      },
      "execution_count": 22,
      "outputs": [
        {
          "output_type": "stream",
          "name": "stdout",
          "text": [
            "✅ Markdown file created: day-1-submission.md\n"
          ]
        }
      ]
    },
    {
      "cell_type": "code",
      "source": [
        "from google.colab import drive\n",
        "drive.mount('/content/drive')\n",
        "\n",
        "!cp day-1-submission.md \"/content/drive/My Drive/Practice month/Day 1/day-1-submission.md\"\n",
        "print(\"✅ Saved to Google Drive as day-1-submission.md\")"
      ],
      "metadata": {
        "colab": {
          "base_uri": "https://localhost:8080/"
        },
        "id": "jHDTimmFthLo",
        "outputId": "5592c4ff-20c7-48ec-953f-eeabc592f46a"
      },
      "execution_count": 23,
      "outputs": [
        {
          "output_type": "stream",
          "name": "stdout",
          "text": [
            "Drive already mounted at /content/drive; to attempt to forcibly remount, call drive.mount(\"/content/drive\", force_remount=True).\n",
            "✅ Saved to Google Drive as day-1-submission.md\n"
          ]
        }
      ]
    }
  ]
}
